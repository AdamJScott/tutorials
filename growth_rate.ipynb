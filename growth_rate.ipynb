{
 "cells": [
  {
   "cell_type": "markdown",
   "metadata": {},
   "source": [
    "## Growth rate from airport traffic data"
   ]
  },
  {
   "cell_type": "markdown",
   "metadata": {},
   "source": [
    "Import the Australian Air Traffic dataset from `github` repository into a `pandas` dataframe. Note this reads in the `.csv` version of the dataset directly from `github`."
   ]
  },
  {
   "cell_type": "code",
   "execution_count": null,
   "metadata": {},
   "outputs": [],
   "source": [
    "import pandas as pd\n",
    "import warnings\n",
    "warnings.filterwarnings('ignore')\n",
    "\n",
    "# read-in the dataset from github into a pandas dataframe\n",
    "air_traffic_df = pd.read_csv('https://raw.githubusercontent.com/xbr209/tutorials/master/Australian_air_traffic.csv', \\\n",
    "                     sep=',')\n",
    "\n",
    "# print out the pandas dataframe to screen\n",
    "air_traffic_df"
   ]
  },
  {
   "cell_type": "markdown",
   "metadata": {},
   "source": [
    "Calculate the annual passenger movements through each Australian airport by summing the 12 calendar months of passengers movements together."
   ]
  },
  {
   "cell_type": "code",
   "execution_count": null,
   "metadata": {},
   "outputs": [],
   "source": [
    "# create a copy of the dataframe\n",
    "annual_traffic_df = air_traffic_df.copy()\n",
    "\n",
    "# calculate the rolling sum for the domestic, international and total passengers in the pandas dataframe\n",
    "annual_traffic_df['Domestic_Passengers'] = annual_traffic_df['Domestic_Passengers'].rolling(12).sum()\n",
    "annual_traffic_df['International_Passengers'] = annual_traffic_df['International_Passengers'].rolling(12).sum()\n",
    "annual_traffic_df['Total_Passengers'] = annual_traffic_df['Total_Passengers'].rolling(12).sum()\n",
    "\n",
    "# create a new dataframe containing only the months of December\n",
    "annual_traffic_df = annual_traffic_df[(air_traffic_df.Month == 12)].reset_index(drop=True)\n",
    "\n",
    "# remove unwanted `Month' column from database\n",
    "annual_traffic_df = annual_traffic_df.drop(columns=['Month', 'Date'])\n",
    "\n",
    "# print out the pandas dataframe to screen\n",
    "annual_traffic_df"
   ]
  },
  {
   "cell_type": "markdown",
   "metadata": {},
   "source": [
    "Calculate the fraction change in annual passenger movements at each airport for each December."
   ]
  },
  {
   "cell_type": "code",
   "execution_count": null,
   "metadata": {},
   "outputs": [],
   "source": [
    "import numpy as np\n",
    "\n",
    "# create a copy of the dataframe\n",
    "growth_rates_df = annual_traffic_df.copy()\n",
    "\n",
    "# add new columns to the pandas dataframe for `growth_rate'\n",
    "growth_rates_df['Domestic_Growth_Rate'] = 0.0\n",
    "growth_rates_df['International_Growth_Rate'] = 0.0\n",
    "growth_rates_df['Total_Growth_Rate'] = 0.0\n",
    "\n",
    "# calculate the fractional difference between each month\n",
    "for i in range(0, len(annual_traffic_df['Domestic_Passengers'])):\n",
    "    # check the previous line (at i - 1) is for the same Airport as the curent line (at i)\n",
    "    if i > 0 and annual_traffic_df['Airport'][i] == annual_traffic_df['Airport'][i - 1]:\n",
    "        # calculate the fractional growth rate\n",
    "        growth_rates_df['Domestic_Growth_Rate'][i] = \\\n",
    "                100*(annual_traffic_df['Domestic_Passengers'][i] - annual_traffic_df['Domestic_Passengers'][i - 1])\\\n",
    "                        /float(annual_traffic_df['Domestic_Passengers'][i - 1])\n",
    "        growth_rates_df['International_Growth_Rate'][i] = \\\n",
    "                100*(annual_traffic_df['International_Passengers'][i] - annual_traffic_df['International_Passengers'][i - 1])\\\n",
    "                        /float(annual_traffic_df['International_Passengers'][i - 1])\n",
    "        growth_rates_df['Total_Growth_Rate'][i] = \\\n",
    "                100*(annual_traffic_df['Total_Passengers'][i] - annual_traffic_df['Total_Passengers'][i - 1])\\\n",
    "                        /float(annual_traffic_df['Total_Passengers'][i - 1])\n",
    "    else:\n",
    "        growth_rates_df['Domestic_Growth_Rate'][i] = np.nan\n",
    "        growth_rates_df['International_Growth_Rate'][i] = np.nan\n",
    "        growth_rates_df['Total_Growth_Rate'][i] = np.nan\n",
    "        \n",
    "# print out the pandas dataframe to screen\n",
    "growth_rates_df"
   ]
  },
  {
   "cell_type": "markdown",
   "metadata": {},
   "source": [
    "Write `pandas` dataframe to a `Microsoft Excel` file named 'Annual_Air_Traffic.csv'."
   ]
  },
  {
   "cell_type": "code",
   "execution_count": null,
   "metadata": {},
   "outputs": [],
   "source": [
    "growth_rates_df.to_csv(\"Annual_Air_Traffic.csv\", index=False)"
   ]
  },
  {
   "cell_type": "code",
   "execution_count": null,
   "metadata": {},
   "outputs": [],
   "source": []
  }
 ],
 "metadata": {
  "kernelspec": {
   "display_name": "Python 2",
   "language": "python",
   "name": "python2"
  },
  "language_info": {
   "codemirror_mode": {
    "name": "ipython",
    "version": 2
   },
   "file_extension": ".py",
   "mimetype": "text/x-python",
   "name": "python",
   "nbconvert_exporter": "python",
   "pygments_lexer": "ipython2",
   "version": "2.7.15"
  }
 },
 "nbformat": 4,
 "nbformat_minor": 2
}
