{
 "cells": [
  {
   "cell_type": "markdown",
   "metadata": {},
   "source": [
    "## Atomic bomb tests from 1945 - 2009"
   ]
  },
  {
   "cell_type": "markdown",
   "metadata": {},
   "source": [
    "Import the Atomic Bombs dataset from `github` repository into a `pandas` dataframe. Note this reads in the `.csv` version of the dataset directly from `github`."
   ]
  },
  {
   "cell_type": "code",
   "execution_count": null,
   "metadata": {},
   "outputs": [],
   "source": [
    "import pandas as pd\n",
    "import warnings\n",
    "warnings.filterwarnings('ignore')\n",
    "\n",
    "# read-in the dataset from github into a pandas dataframe\n",
    "url = \"https://raw.githubusercontent.com/xbr209/tutorials/master/Atomic_bombs.csv\"\n",
    "dataset = pd.read_csv(url)\n",
    "\n",
    "# print out the pandas dataframe to screen\n",
    "dataset"
   ]
  },
  {
   "cell_type": "markdown",
   "metadata": {},
   "source": [
    "Define function to create animation of atomic bomb tests, with points coloured by country and sized by bomb yield. "
   ]
  },
  {
   "cell_type": "code",
   "execution_count": null,
   "metadata": {},
   "outputs": [],
   "source": [
    "import numpy as np\n",
    "import plotly.offline as py\n",
    "import plotly.graph_objs as go\n",
    "from plotly.offline import download_plotlyjs, init_notebook_mode, iplot\n",
    "from plotly.graph_objs import *\n",
    "init_notebook_mode()\n",
    "\n",
    "def animation(dataset, countries, years):\n",
    "    # define location of world map image for background under (scatter plot) animation\n",
    "    source_image_url = \"https://raw.githubusercontent.com/xbr209/tutorials/master/world_map.png\"\n",
    "    image_layout = go.layout.Image(source=source_image_url, xref= \"x\", yref= \"y\", x= -180, y= 90, sizex= 360, \\\n",
    "                    sizey= 180, sizing= \"stretch\", opacity= 0.75, layer= \"below\")\n",
    "\n",
    "    # define figure contents using a dictionary\n",
    "    fig_dict = {\n",
    "        \"data\": [],\n",
    "        \"layout\": {},\n",
    "        \"frames\": []\n",
    "    }\n",
    "\n",
    "    # fill in most of the layout\n",
    "    fig_dict[\"layout\"][\"yaxis\"] = {\"range\": [-90, 90], \"showgrid\": False, \"zeroline\": False, \"showticklabels\": False}\n",
    "    fig_dict[\"layout\"][\"xaxis\"] = {\"range\": [-180, 180], \"showgrid\": False, \"zeroline\": False, \\\n",
    "                    \"showticklabels\": False, \"scaleanchor\": \"y\", \"scaleratio\": 1, \"titlefont\": {\"size\": 1}, \\\n",
    "                    \"tickfont\": {\"size\": 1}}\n",
    "    fig_dict[\"layout\"][\"hovermode\"] = \"closest\"\n",
    "    fig_dict[\"layout\"][\"sliders\"] = {\n",
    "        \"args\": [\"transition\", {\"duration\": 400, \"easing\": \"cubic-in-out\"}],\n",
    "        \"initialValue\": years[0], \"plotlycommand\": \"animate\", \"values\": years, \"visible\": True\n",
    "    }\n",
    "    fig_dict[\"layout\"][\"updatemenus\"] = [\n",
    "        {\n",
    "            \"buttons\": [\n",
    "                {\n",
    "                    \"args\": [None, {\"frame\": {\"duration\": 500, \"redraw\": False}, \"fromcurrent\": False, \\\n",
    "                                    \"transition\": {\"duration\": 300, \"easing\": \"quadratic-in-out\"}}],\n",
    "                    \"label\": \"Play\",\n",
    "                    \"method\": \"animate\"\n",
    "                },\n",
    "                {\n",
    "                    \"args\": [[None], {\"frame\": {\"duration\": 0, \"redraw\": False}, \"mode\": \"immediate\", \\\n",
    "                                      \"transition\": {\"duration\": 0}}],\n",
    "                    \"label\": \"Pause\",\n",
    "                    \"method\": \"animate\"\n",
    "                }\n",
    "            ],\n",
    "            \"direction\": \"left\", \"pad\": {\"r\": 10, \"t\": 52}, \"showactive\": True, \"type\": \"buttons\", \\\n",
    "            \"x\": 0.1, \"xanchor\": \"right\", \"y\": 0, \"yanchor\": \"top\"\n",
    "        }\n",
    "    ]\n",
    "\n",
    "    sliders_dict = {\n",
    "        \"active\": 0, \"yanchor\": \"top\", \"xanchor\": \"left\",\n",
    "        \"currentvalue\": {\n",
    "            \"font\": {\"size\": 18},\n",
    "            \"prefix\": \"Year:\",\n",
    "            \"visible\": True,\n",
    "            \"xanchor\": \"right\"\n",
    "        },\n",
    "        \"transition\": {\"duration\": 300, \"easing\": \"cubic-in-out\"},\n",
    "        \"pad\": {\"b\": 10, \"t\": 15}, \"len\": 0.9, \"x\": 0.1, \"y\": 0, \"steps\": []\n",
    "    }\n",
    "\n",
    "    # make 'fake' data for first year to set up plot correctly\n",
    "    for country in countries:\n",
    "        data_dict = {\n",
    "            \"y\": list([-999999]),\n",
    "            \"x\": list([-999999]),\n",
    "            \"mode\": \"markers\",\n",
    "            \"text\": list(['--']),\n",
    "            \"marker\": {\n",
    "                \"sizemode\": \"area\",\n",
    "                \"sizeref\": 2.5,\n",
    "                \"size\": list([1000.0]),\n",
    "                \"color\": country_colour(country)\n",
    "            },\n",
    "            \"name\": country\n",
    "        }\n",
    "        fig_dict[\"data\"].append(data_dict)\n",
    "\n",
    "    # make frames for each year of the animation\n",
    "    for year in years:\n",
    "        frame = {\"data\": [], \"name\": str(year)}\n",
    "        # ensure elements do not line up between years (this is a hack)\n",
    "        if (year%2 == 0):\n",
    "            offset = np.zeros(50)\n",
    "        else:\n",
    "            offset = 0\n",
    "\n",
    "        for country in countries:\n",
    "            dataset_by_year_and_country = dataset[(dataset['Year'] == int(year)) & (dataset['Country'] == country) & \\\n",
    "                            (dataset['Latitude'] != '--') & (dataset['Longitude'] != '--') & \\\n",
    "                            (dataset['Yield (kT)'] != '--')]\n",
    "            # set location of each atomic bomb test, the yield and colour for the country\n",
    "            data_dict = {\n",
    "                \"y\": np.insert(dataset_by_year_and_country['Latitude'].values.astype(float), 0, \\\n",
    "                               offset -999999).tolist(),\n",
    "                \"x\": np.insert(dataset_by_year_and_country['Longitude'].values.astype(float), 0, \\\n",
    "                               offset -999999).tolist(),\n",
    "                \"mode\": \"markers\",\n",
    "                \"text\": np.insert(dataset_by_year_and_country['Date'].values, 0, offset -999999).tolist(),\n",
    "                \"marker\": {\n",
    "                    \"sizemode\": \"area\",\n",
    "                    \"sizeref\": 2.5,\n",
    "                    \"size\": np.fmax(50, np.insert(dataset_by_year_and_country['Yield (kT)'].values.astype(float), \\\n",
    "                                    0, offset + 1000)).tolist(),\n",
    "                    \"color\": country_colour(country)\n",
    "                },\n",
    "                \"name\": country\n",
    "            }\n",
    "            frame[\"data\"].append(data_dict)\n",
    "\n",
    "        fig_dict[\"frames\"].append(frame)\n",
    "        slider_step = {\"args\": [\n",
    "            [year],\n",
    "            {\"frame\": {\"duration\": 500, \"redraw\": False}, \"mode\": \"immediate\", \"transition\": {\"duration\": 300}}\n",
    "        ],\n",
    "            \"label\": year, \"method\": \"animate\"}\n",
    "        sliders_dict[\"steps\"].append(slider_step)\n",
    "\n",
    "    fig_dict[\"layout\"][\"sliders\"] = [sliders_dict]\n",
    "\n",
    "    # plot the figure\n",
    "    fig = go.Figure(data=fig_dict) # for scatter plot\n",
    "    # add image to background\n",
    "    fig.layout.update(images=[image_layout])\n",
    "\n",
    "    iplot(fig, config={'scrollzoom': True})"
   ]
  },
  {
   "cell_type": "markdown",
   "metadata": {},
   "source": [
    "Define the years to be plotted in the animation."
   ]
  },
  {
   "cell_type": "code",
   "execution_count": null,
   "metadata": {},
   "outputs": [],
   "source": [
    "# create a list of the years to plot in the animation\n",
    "years = list()\n",
    "for year in range(1945, 2010):\n",
    "    years.append(year)"
   ]
  },
  {
   "cell_type": "markdown",
   "metadata": {},
   "source": [
    "Define the countries to be plotted in the animation."
   ]
  },
  {
   "cell_type": "code",
   "execution_count": null,
   "metadata": {},
   "outputs": [],
   "source": [
    "# make a list containing just the United States\n",
    "countries = list(['United States'])"
   ]
  },
  {
   "cell_type": "code",
   "execution_count": null,
   "metadata": {},
   "outputs": [],
   "source": [
    "# make a list of all the countries\n",
    "countries = list()\n",
    "for country in dataset['Country']:\n",
    "    if country not in countries:\n",
    "        countries.append(country)"
   ]
  },
  {
   "cell_type": "markdown",
   "metadata": {},
   "source": [
    "Define a function to set the colour of the points for each country. Possible colours recognised by `plotly` (as coded in `python`) include 'darkred', 'crimson', 'red', 'orangered', 'orange', 'yellow', 'green', 'darkgreen', 'blue', 'medium blue', 'navy', 'purple', 'pink', 'grey' and 'black'. The full range of colours can be found at https://matplotlib.org/3.1.0/gallery/color/named_colors.html."
   ]
  },
  {
   "cell_type": "code",
   "execution_count": null,
   "metadata": {},
   "outputs": [],
   "source": [
    "def country_colour(country):\n",
    "    # return a pre-defined colour for each input country\n",
    "    if (country == 'United States'):\n",
    "        return 'navy'\n",
    "    elif (country == 'USSR/Russia'):\n",
    "        return 'crimson'\n",
    "    elif (country == 'United Kingdom'):\n",
    "        return 'blue'\n",
    "    elif (country == 'France'):\n",
    "        return 'cyan'\n",
    "    elif (country == 'China'):\n",
    "        return 'red'\n",
    "    elif (country == 'India'):\n",
    "        return 'orange'\n",
    "    elif (country == 'South Africa'):\n",
    "        return 'purple'\n",
    "    elif (country == 'Pakistan'):\n",
    "        return 'green'\n",
    "    elif (country == 'North Korea'):\n",
    "        return 'grey'\n",
    "    else:\n",
    "        return 'black'"
   ]
  },
  {
   "cell_type": "markdown",
   "metadata": {},
   "source": [
    "Create the animation of the location of atomic bomb tests between 1945 and 2009."
   ]
  },
  {
   "cell_type": "code",
   "execution_count": null,
   "metadata": {},
   "outputs": [],
   "source": [
    "animation(dataset, countries, years)"
   ]
  },
  {
   "cell_type": "code",
   "execution_count": null,
   "metadata": {},
   "outputs": [],
   "source": []
  }
 ],
 "metadata": {
  "kernelspec": {
   "display_name": "Python 2",
   "language": "python",
   "name": "python2"
  },
  "language_info": {
   "codemirror_mode": {
    "name": "ipython",
    "version": 2
   },
   "file_extension": ".py",
   "mimetype": "text/x-python",
   "name": "python",
   "nbconvert_exporter": "python",
   "pygments_lexer": "ipython2",
   "version": "2.7.15"
  }
 },
 "nbformat": 4,
 "nbformat_minor": 2
}
