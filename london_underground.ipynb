{
 "cells": [
  {
   "cell_type": "markdown",
   "metadata": {},
   "source": [
    "## London Underground network connections map"
   ]
  },
  {
   "cell_type": "markdown",
   "metadata": {},
   "source": [
    "#### Function definitions for network map (to be run once, but not to be changed)"
   ]
  },
  {
   "cell_type": "markdown",
   "metadata": {},
   "source": [
    "Define function to specify colour for each group."
   ]
  },
  {
   "cell_type": "code",
   "execution_count": null,
   "metadata": {},
   "outputs": [],
   "source": [
    "def group_colour(group, colourscheme):\n",
    "    # if member belongs to multiple groups return a neutral colour\n",
    "    if group == 'Multiple Groups':\n",
    "        return 'white'\n",
    "    else:\n",
    "        # find group in colourscheme dataset\n",
    "        for i in range(0, len(colourscheme.iloc[:,0])):\n",
    "            if group == colourscheme.iloc[i,0]:\n",
    "                return colourscheme.iloc[i,1]\n",
    "        \n",
    "        # return value in case there is no match\n",
    "        return 'white'"
   ]
  },
  {
   "cell_type": "markdown",
   "metadata": {},
   "source": [
    "Define functions to find 'graph' (mathematical name for a nextwork map) nodes and edges."
   ]
  },
  {
   "cell_type": "code",
   "execution_count": null,
   "metadata": {},
   "outputs": [],
   "source": [
    "def graph_nodes(dataset, colourscheme):\n",
    "    # create empty lists to store node names and membership \n",
    "    Nodes = list()\n",
    "    Colours = list()\n",
    "    \n",
    "    # add information about each node (member of groups)\n",
    "    for i in range(0, len(dataset.iloc[:,0])):\n",
    "        group = 'None'\n",
    "        # check if node belongs to multiple groups\n",
    "        for j in range(1, len(dataset.columns)):\n",
    "            # check if member is in group\n",
    "            if dataset.iloc[i,j] > 0:\n",
    "                # check if this is the first group the member is in\n",
    "                if group == 'None':\n",
    "                    group = dataset.columns[j]\n",
    "                else:\n",
    "                    group = 'Multiple Groups'\n",
    "        # add node name and membership to list\n",
    "        Nodes.append(dataset.iloc[i,0])\n",
    "        Colours.append(group_colour(group, colourscheme))\n",
    "    \n",
    "    # return list of members in all groups\n",
    "    return Nodes, Colours"
   ]
  },
  {
   "cell_type": "code",
   "execution_count": null,
   "metadata": {},
   "outputs": [],
   "source": [
    "def graph_edges(dataset):\n",
    "    # create empty list to store edges\n",
    "    Edges = list()\n",
    "    \n",
    "    # add edges between members in each group\n",
    "    for i in range(1, len(dataset.columns)):\n",
    "        # cycle through each member in the group\n",
    "        for j in range(0, len(dataset.iloc[:,i])):\n",
    "            # if member is in the group, add edges to other members in the group\n",
    "            if dataset.iloc[j,i] > 0:\n",
    "                for k in range(j + 1, len(dataset.iloc[:,i])):\n",
    "                    # if second member is also in the group add edge between them\n",
    "                    if dataset.iloc[k,i] > 0:\n",
    "                        Edges.append((j, k))\n",
    "    \n",
    "    # return filled list of edges between members in each of the groups\n",
    "    return Edges"
   ]
  },
  {
   "cell_type": "markdown",
   "metadata": {},
   "source": [
    "Define function to create a network plot given the 'graph' nodes and edges derived for the dataset."
   ]
  },
  {
   "cell_type": "code",
   "execution_count": null,
   "metadata": {},
   "outputs": [],
   "source": [
    "import igraph as ig\n",
    "import plotly.offline as py\n",
    "import plotly.graph_objs as go\n",
    "\n",
    "def network_plot(dataset, colourscheme, filename):\n",
    "    # find node names and colours from dataset\n",
    "    Nodes, Colours = graph_nodes(dataset, colourscheme)\n",
    "    N = len(Nodes)\n",
    "\n",
    "    # calculate 'graph' edges from dataset\n",
    "    Edges = graph_edges(dataset)\n",
    "    G = ig.Graph(Edges, directed=False)\n",
    "\n",
    "    # define the graph as a 3 dimensional object\n",
    "    layt = G.layout('kk', dim=3)\n",
    "\n",
    "    # define coordinates of nodes\n",
    "    Xn = [layt[k][0] for k in range(N)] # x-coordinates of nodes\n",
    "    Yn = [layt[k][1] for k in range(N)] # y-coordinates\n",
    "    Zn = [layt[k][2] for k in range(N)] # z-coordinates\n",
    "\n",
    "    # define coordinates of each end of edges\n",
    "    Xe = []\n",
    "    Ye = []\n",
    "    Ze = []\n",
    "    for e in Edges:\n",
    "        Xe += [layt[e[0]][0],layt[e[1]][0], None] # x-coordinates of edge ends\n",
    "        Ye += [layt[e[0]][1],layt[e[1]][1], None]\n",
    "        Ze += [layt[e[0]][2],layt[e[1]][2], None]\n",
    "\n",
    "    # plot the edges of the 'graph'\n",
    "    trace1 = go.Scatter3d(x=Xe, y=Ye, z=Ze, mode='lines', line=dict(color='rgb(125,125,125)', width=0.5), \\\n",
    "                    hoverinfo='none')\n",
    "\n",
    "    # plot the nodes of the 'graph'\n",
    "    trace2 = go.Scatter3d(x=Xn, y=Yn, z=Zn, mode='markers+text', name=dataset.columns[0], \\\n",
    "                    marker=dict(symbol='circle', size=6, color=Colours, line=dict(color='rgb(50,50,50)', width=1)), \\\n",
    "                    text=Nodes, textposition='middle right', hoverinfo='text')\n",
    "\n",
    "    # set properties of all 3 axes\n",
    "    axis = dict(showbackground=False, showline=False, zeroline=False, showgrid=False, showticklabels=False, \\\n",
    "                    showspikes=False, title='')\n",
    "\n",
    "    # define plot layout\n",
    "    layout = go.Layout(width=1000, height=1000, showlegend=False, \\\n",
    "                    scene=dict(xaxis=dict(axis), yaxis=dict(axis), zaxis=dict(axis)), margin=dict(t=0), \\\n",
    "                    hovermode='closest')\n",
    "\n",
    "    # create network plot\n",
    "    data = [trace1, trace2]\n",
    "    fig = go.Figure(data=data, layout=layout)\n",
    "    py.plot(fig, config={'scrollzoom': False}, filename=filename, auto_open=False)"
   ]
  },
  {
   "cell_type": "markdown",
   "metadata": {},
   "source": [
    "#### Import dataset of nodes and group membership, and colourscheme to apply to each group (change file location as desired)"
   ]
  },
  {
   "cell_type": "markdown",
   "metadata": {},
   "source": [
    "Import the London Underground connections dataset from `github` repository into a `pandas` dataframe. Note this reads in the `.csv` version of the dataset directly from `github`.\n",
    "\n",
    "This dataset is formatted so that each column (after the first) indicates membership of a particular group, in this case an underground line. All members of the group (in this case stations, listed in the first column) are assumed to be directly linked to each other."
   ]
  },
  {
   "cell_type": "code",
   "execution_count": null,
   "metadata": {},
   "outputs": [],
   "source": [
    "import pandas as pd\n",
    "import warnings\n",
    "warnings.filterwarnings('ignore')\n",
    "\n",
    "# read-in the dataset from github into a pandas dataframe\n",
    "url = \"https://raw.githubusercontent.com/xbr209/tutorials/master/London_underground.csv\"\n",
    "dataset = pd.read_csv(url)\n",
    "\n",
    "# print out the pandas dataframe to screen\n",
    "dataset"
   ]
  },
  {
   "cell_type": "markdown",
   "metadata": {},
   "source": [
    "Import the London Underground colourscheme dataset from `github` repository into a `pandas` dataframe.\n",
    "\n",
    "This dataset is formatted so that the first column is the group name (used in the main dataset) and the second column is the colour name to be used for that group. The colour name must be in a format recognised by `plotly`; the full range of colours can be found at https://matplotlib.org/3.1.0/gallery/color/named_colors.html."
   ]
  },
  {
   "cell_type": "code",
   "execution_count": null,
   "metadata": {},
   "outputs": [],
   "source": [
    "# read-in colour scheme for each group from github into a pandas dataframe\n",
    "url = \"https://raw.githubusercontent.com/xbr209/tutorials/master/London_underground_colourscheme.csv\"\n",
    "colourscheme = pd.read_csv(url)\n",
    "\n",
    "colourscheme"
   ]
  },
  {
   "cell_type": "markdown",
   "metadata": {},
   "source": [
    "#### Produce network plot from input dataset and colour scheme"
   ]
  },
  {
   "cell_type": "markdown",
   "metadata": {},
   "source": [
    "Function that creates a network plot; takes the dataset, colourscheme and output filename as inputs."
   ]
  },
  {
   "cell_type": "code",
   "execution_count": null,
   "metadata": {},
   "outputs": [],
   "source": [
    "network_plot(dataset, colourscheme, 'london_underground')"
   ]
  }
 ],
 "metadata": {
  "kernelspec": {
   "display_name": "Python 2",
   "language": "python",
   "name": "python2"
  },
  "language_info": {
   "codemirror_mode": {
    "name": "ipython",
    "version": 2
   },
   "file_extension": ".py",
   "mimetype": "text/x-python",
   "name": "python",
   "nbconvert_exporter": "python",
   "pygments_lexer": "ipython2",
   "version": "2.7.15"
  }
 },
 "nbformat": 4,
 "nbformat_minor": 2
}
