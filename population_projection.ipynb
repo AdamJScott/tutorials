{
 "cells": [
  {
   "cell_type": "markdown",
   "metadata": {},
   "source": [
    "## Global population projections from birth and death rates"
   ]
  },
  {
   "cell_type": "markdown",
   "metadata": {},
   "source": [
    "Import the Life and Death dataset from `github` repository into a `pandas` dataframe. Note this reads in the `.csv` version of the dataset directly from `github`."
   ]
  },
  {
   "cell_type": "code",
   "execution_count": null,
   "metadata": {},
   "outputs": [],
   "source": [
    "import pandas as pd\n",
    "import warnings\n",
    "warnings.filterwarnings('ignore')\n",
    "\n",
    "# read-in the dataset from github into a pandas dataframe\n",
    "life_and_death_df = pd.read_csv('https://raw.githubusercontent.com/xbr209/tutorials/master/Life_and_death.csv', \\\n",
    "                     sep=',')\n",
    "\n",
    "# print out the pandas dataframe to screen\n",
    "life_and_death_df"
   ]
  },
  {
   "cell_type": "markdown",
   "metadata": {},
   "source": [
    "Calculate the annual population increase in each country for 2018. That is, the number of births minus the number of deaths; this excludes migration, however if we examine the change in global population this is unimportant."
   ]
  },
  {
   "cell_type": "code",
   "execution_count": null,
   "metadata": {},
   "outputs": [],
   "source": [
    "# add new column to pandas dataframe\n",
    "life_and_death_df['Population increase'] = '--'\n",
    "\n",
    "# calculate increase in population for each country with both recorded birth and death rates\n",
    "for i in range(0, len(life_and_death_df['Population increase'])):\n",
    "    if (not life_and_death_df['Birth rate, crude (per 1,000 people)'][i] == '--') and \\\n",
    "                    (not life_and_death_df['Death rate, crude (per 1,000 people)'][i] == '--'):\n",
    "        life_and_death_df['Population increase'][i] = \\\n",
    "                        int((float(life_and_death_df['Birth rate, crude (per 1,000 people)'][i]) \\\n",
    "                        - float(life_and_death_df['Death rate, crude (per 1,000 people)'][i])) \\\n",
    "                        *float(life_and_death_df['Population'][i])/1000.)\n",
    "                    # divide by 1000 because birth and death rates are per 1000 people\n",
    "                    # take int of answer since we are considering people, who are discrete elements\n",
    "\n",
    "# print out the pandas dataframe to screen\n",
    "life_and_death_df"
   ]
  },
  {
   "cell_type": "markdown",
   "metadata": {},
   "source": [
    "Calculate the rate of population growth in each country for 2018, only considering natural increases and decreases (i.e. excluding migration)."
   ]
  },
  {
   "cell_type": "code",
   "execution_count": null,
   "metadata": {},
   "outputs": [],
   "source": [
    "# add new column to pandas dataframe\n",
    "life_and_death_df['Population growth rate (%)'] = '--'\n",
    "\n",
    "# calculate population growth rate for each country with both recorded birth and death rates\n",
    "for i in range(0, len(life_and_death_df['Population growth rate (%)'])):\n",
    "    if not life_and_death_df['Population increase'][i] == '--':\n",
    "        life_and_death_df['Population growth rate (%)'][i] = life_and_death_df['Population increase'][i] \\\n",
    "                        /float(life_and_death_df['Population'][i])*100\n",
    "                    # multiply by 100 to write answer as a percentage\n",
    "\n",
    "# print out the pandas dataframe to screen\n",
    "life_and_death_df"
   ]
  },
  {
   "cell_type": "markdown",
   "metadata": {},
   "source": [
    "Write `pandas` dataframe to a `Microsoft Excel` file named 'Propulation_Projections.csv'."
   ]
  },
  {
   "cell_type": "code",
   "execution_count": null,
   "metadata": {},
   "outputs": [],
   "source": [
    "life_and_death_df.to_csv(\"Population_Projections.csv\", index=False)"
   ]
  },
  {
   "cell_type": "code",
   "execution_count": null,
   "metadata": {},
   "outputs": [],
   "source": []
  }
 ],
 "metadata": {
  "kernelspec": {
   "display_name": "Python 2",
   "language": "python",
   "name": "python2"
  },
  "language_info": {
   "codemirror_mode": {
    "name": "ipython",
    "version": 2
   },
   "file_extension": ".py",
   "mimetype": "text/x-python",
   "name": "python",
   "nbconvert_exporter": "python",
   "pygments_lexer": "ipython2",
   "version": "2.7.15"
  }
 },
 "nbformat": 4,
 "nbformat_minor": 2
}
